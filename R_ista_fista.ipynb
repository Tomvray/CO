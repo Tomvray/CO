{
 "cells": [
  {
   "cell_type": "code",
   "execution_count": 34,
   "id": "fffd6034",
   "metadata": {
    "vscode": {
     "languageId": "r"
    }
   },
   "outputs": [],
   "source": [
    "# Load libraries\n",
    "library(Matrix)   # sparse matrices if you like\n",
    "library(ggplot2)  # quick plotting\n",
    "set.seed(42)"
   ]
  },
  {
   "cell_type": "code",
   "execution_count": 35,
   "id": "863c5cac",
   "metadata": {
    "vscode": {
     "languageId": "r"
    }
   },
   "outputs": [
    {
     "name": "stdout",
     "output_type": "stream",
     "text": [
      "'data.frame':\t200 obs. of  5 variables:\n",
      " $ X        : int  1 2 3 4 5 6 7 8 9 10 ...\n",
      " $ TV       : num  230.1 44.5 17.2 151.5 180.8 ...\n",
      " $ Radio    : num  37.8 39.3 45.9 41.3 10.8 48.9 32.8 19.6 2.1 2.6 ...\n",
      " $ Newspaper: num  69.2 45.1 69.3 58.5 58.4 75 23.5 11.6 1 21.2 ...\n",
      " $ Sales    : num  22.1 10.4 9.3 18.5 12.9 7.2 11.8 13.2 4.8 10.6 ...\n",
      "[1] \"Are there any missing values? FALSE\"\n"
     ]
    }
   ],
   "source": [
    "# Load data\n",
    "data <- read.csv(\"Data/Advertising.csv\")\n",
    "\n",
    "# Check the structure of the data\n",
    "str(data)\n",
    "# Check for missing values\n",
    "print(paste(\"Are there any missing values?\", any(is.na(data))))"
   ]
  },
  {
   "cell_type": "code",
   "execution_count": 36,
   "id": "e4ee8b3b",
   "metadata": {
    "vscode": {
     "languageId": "r"
    }
   },
   "outputs": [],
   "source": [
    "# --- soft-threshold --------------------------------------\n",
    "soft_thresh <- function(v, thresh) {\n",
    "  sign(v) * pmax(abs(v) - thresh, 0)\n",
    "}\n",
    "\n",
    "# --- spectral-norm-squared via power iteration -----------\n",
    "#        Gives an *upper* bound on  λ_max(AᵀA)  ==  ‖A‖₂²\n",
    "lipschitz_power <- function(A, n_iter = 50) {\n",
    "  p <- ncol(A)\n",
    "  z <- rnorm(p)\n",
    "  for (i in seq_len(n_iter)) {\n",
    "    z <- drop(crossprod(A, A %*% z))   # z ← Aᵀ A z\n",
    "    z <- z / sqrt(sum(z^2))            # normalise\n",
    "  }\n",
    "  num <- sqrt(sum((A %*% z)^2))\n",
    "  return(num^2)                        # L = ‖A‖₂²\n",
    "}"
   ]
  },
  {
   "cell_type": "code",
   "execution_count": 37,
   "id": "5641c9a8",
   "metadata": {
    "vscode": {
     "languageId": "r"
    }
   },
   "outputs": [],
   "source": [
    "ista_lasso <- function(A, b, lambda = 0.1,\n",
    "                       max_iter = 1000, tol = 1e-7) {\n",
    "\n",
    "  p   <- ncol(A)\n",
    "  x   <- numeric(p)               # x₀ = 0\n",
    "  L   <- lipschitz_power(A)       # robust step size\n",
    "  tau <- 1 / L\n",
    "\n",
    "  for (k in seq_len(max_iter)) {\n",
    "    grad <- drop(t(A) %*% (A %*% x - b))   # ∇f(x) as numeric\n",
    "    x_new <- soft_thresh(x - tau * grad, lambda * tau)\n",
    "\n",
    "    if (sqrt(sum((x_new - x)^2)) < tol) {\n",
    "      message(sprintf(\"ISTA converged @ iter %d\", k))\n",
    "      break\n",
    "    }\n",
    "    x <- x_new\n",
    "  }\n",
    "  x                                    # return numeric vector\n",
    "}\n"
   ]
  },
  {
   "cell_type": "code",
   "execution_count": null,
   "id": "e2b7d512",
   "metadata": {
    "vscode": {
     "languageId": "r"
    }
   },
   "outputs": [],
   "source": [
    "fista_lasso <- function(A, b, lambda = 0.1,\n",
    "                        max_iter = 1000, tol = 1e-7) {\n",
    "\n",
    "  p   <- ncol(A)\n",
    "  x   <- numeric(p)\n",
    "  y   <- x\n",
    "  t   <- 1\n",
    "  tau <- 1 / lipschitz_power(A)\n",
    "\n",
    "  for (k in seq_len(max_iter)) {\n",
    "\n",
    "    grad <- drop(t(A) %*% (A %*% y - b))\n",
    "    x_new <- soft_thresh(y - tau * grad, lambda * tau)\n",
    "\n",
    "    if (sqrt(sum((x_new - x)^2)) < tol) {\n",
    "      message(sprintf(\"FISTA converged @ iter %d\", k))\n",
    "      break\n",
    "    }\n",
    "\n",
    "    t_new <- 0.5 * (1 + sqrt(1 + 4 * t^2))\n",
    "    y     <- x_new + ((t - 1) / t_new) * (x_new - x)\n",
    "\n",
    "    x <- x_new;  t <- t_new\n",
    "  }\n",
    "  x\n",
    "}"
   ]
  },
  {
   "cell_type": "code",
   "execution_count": 39,
   "id": "8a8f9cd9",
   "metadata": {
    "vscode": {
     "languageId": "r"
    }
   },
   "outputs": [],
   "source": [
    "n <- 10000;  p <- 3000\n",
    "A <- matrix(runif(n * p, -1, 1), n, p)\n",
    "b <- runif(n, -1, 1)\n",
    "lambda <- 0.1"
   ]
  },
  {
   "cell_type": "code",
   "execution_count": 40,
   "id": "a8cd863e",
   "metadata": {
    "vscode": {
     "languageId": "r"
    }
   },
   "outputs": [
    {
     "name": "stderr",
     "output_type": "stream",
     "text": [
      "ISTA converged @ iter 120\n",
      "\n"
     ]
    },
    {
     "data": {
      "text/plain": [
       "utilisateur     système      écoulé \n",
       "      21.49        1.42       47.23 "
      ]
     },
     "metadata": {},
     "output_type": "display_data"
    },
    {
     "name": "stderr",
     "output_type": "stream",
     "text": [
      "FISTA converged @ iter 150\n",
      "\n"
     ]
    },
    {
     "data": {
      "text/plain": [
       "utilisateur     système      écoulé \n",
       "      23.19        1.94       59.89 "
      ]
     },
     "metadata": {},
     "output_type": "display_data"
    }
   ],
   "source": [
    "system.time(x_ista  <- ista_lasso(A, b, lambda))\n",
    "system.time(x_fista <- fista_lasso(A, b, lambda))"
   ]
  },
  {
   "cell_type": "code",
   "execution_count": 41,
   "id": "4685ed4b",
   "metadata": {
    "vscode": {
     "languageId": "r"
    }
   },
   "outputs": [
    {
     "name": "stdout",
     "output_type": "stream",
     "text": [
      "  method objective  nnz\n",
      "1   ISTA  1196.959 2990\n",
      "2  FISTA  1196.959 2990\n"
     ]
    }
   ],
   "source": [
    "objective <- function(x) 0.5 * sum((A %*% x - b)^2) + lambda * sum(abs(x))\n",
    "\n",
    "df <- data.frame(\n",
    "  method    = c(\"ISTA\", \"FISTA\"),\n",
    "  objective = c(objective(x_ista), objective(x_fista)),\n",
    "  nnz       = c(sum(x_ista != 0),  sum(x_fista != 0))\n",
    ")\n",
    "print(df)"
   ]
  },
  {
   "cell_type": "code",
   "execution_count": 42,
   "id": "9a4fa9eb",
   "metadata": {
    "vscode": {
     "languageId": "r"
    }
   },
   "outputs": [
    {
     "data": {
      "image/png": "[encoded data removed]",
      "text/plain": [
       "Plot with title \"Final objective value\""
      ]
     },
     "metadata": {
      "image/png": {
       "height": 420,
       "width": 420
      }
     },
     "output_type": "display_data"
    }
   ],
   "source": [
    "barplot(df$objective, names.arg = df$method,\n",
    "        main = \"Final objective value\", ylab = \"F(x*)\")"
   ]
  },
  {
   "cell_type": "markdown",
   "id": "c1495cfe",
   "metadata": {},
   "source": [
    "### Observations  \n",
    "* FISTA should reach the same or lower objective in **far fewer iterations**  \n",
    "  thanks to its \\(O(1/k^2)\\) rate, while ISTA drops at \\(O(1/k)\\).  \n",
    "* Both methods return equally sparse solutions (same λ).  \n",
    "* Replace the random matrix with any real dataset (after standardisation)  \n",
    "  to reproduce the experiments required by the project brief."
   ]
  },
  {
   "cell_type": "markdown",
   "id": "7cf41139",
   "metadata": {},
   "source": [
    "# ℓ¹-Regularised Linear Regression  \n",
    "## ISTA vs FISTA in R (IRkernel)"
   ]
  },
  {
   "cell_type": "code",
   "execution_count": 43,
   "id": "aa54083b",
   "metadata": {
    "vscode": {
     "languageId": "r"
    }
   },
   "outputs": [],
   "source": [
    "# core numerical tools\n",
    "library(Matrix)   # sparse matrices if you like\n",
    "library(ggplot2)  # quick plotting\n",
    "set.seed(42)"
   ]
  }
 ],
 "metadata": {
  "kernelspec": {
   "display_name": "R",
   "language": "R",
   "name": "ir"
  },
  "language_info": {
   "codemirror_mode": "r",
   "file_extension": ".r",
   "mimetype": "text/x-r-source",
   "name": "R",
   "pygments_lexer": "r",
   "version": "4.3.3"
  }
 },
 "nbformat": 4,
 "nbformat_minor": 5
}
