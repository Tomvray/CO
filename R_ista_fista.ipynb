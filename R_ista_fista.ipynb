{
 "cells": [
  {
   "cell_type": "code",
   "execution_count": null,
   "id": "fffd6034",
   "metadata": {
    "vscode": {
     "languageId": "r"
    }
   },
   "outputs": [],
   "source": [
    "# Load libraries\n",
    "library(Matrix)   # sparse matrices if you like\n",
    "library(ggplot2)  # quick plotting\n",
    "set.seed(123)  # for reproducibility"
   ]
  },
  {
   "cell_type": "code",
   "execution_count": 2,
   "id": "e4ee8b3b",
   "metadata": {
    "vscode": {
     "languageId": "r"
    }
   },
   "outputs": [],
   "source": [
    "# --- soft-threshold --------------------------------------\n",
    "soft_thresh <- function(v, thresh) {\n",
    "  sign(v) * pmax(abs(v) - thresh, 0)\n",
    "}\n",
    "\n",
    "# --- spectral-norm-squared via power iteration -----------\n",
    "#        Gives an *upper* bound on  λ_max(AᵀA)  ==  ‖A‖₂²\n",
    "lipschitz_power <- function(A, n_iter = 50) {\n",
    "  p <- ncol(A)\n",
    "  z <- rnorm(p)\n",
    "  for (i in seq_len(n_iter)) {\n",
    "    z <- drop(crossprod(A, A %*% z))   # z ← Aᵀ A z\n",
    "    z <- z / sqrt(sum(z^2))            # normalise\n",
    "  }\n",
    "  num <- sqrt(sum((A %*% z)^2))\n",
    "  return(num^2)                        # L = ‖A‖₂²\n",
    "}"
   ]
  },
  {
   "cell_type": "code",
   "execution_count": 3,
   "id": "5641c9a8",
   "metadata": {
    "vscode": {
     "languageId": "r"
    }
   },
   "outputs": [],
   "source": [
    "ista_lasso <- function(A, b, lambda = 0.1,\n",
    "                       max_iter = 1000, tol = 1e-7) {\n",
    "\n",
    "  p   <- ncol(A)\n",
    "  x   <- numeric(p)               # x₀ = 0\n",
    "  tau <- 1 / lipschitz_power(A)\n",
    "\n",
    "  for (k in seq_len(max_iter)) {\n",
    "    grad <- drop(t(A) %*% (A %*% x - b))   # ∇f(x) as numeric\n",
    "    x_new <- soft_thresh(x - tau * grad, lambda * tau)\n",
    "\n",
    "    if (sqrt(sum((x_new - x)^2)) < tol) {\n",
    "      message(sprintf(\"ISTA converged @ iter %d\", k))\n",
    "      break\n",
    "    }\n",
    "    x <- x_new\n",
    "  }\n",
    "  x                                    # return numeric vector\n",
    "}\n"
   ]
  },
  {
   "cell_type": "code",
   "execution_count": 4,
   "id": "e2b7d512",
   "metadata": {
    "vscode": {
     "languageId": "r"
    }
   },
   "outputs": [],
   "source": [
    "fista_lasso <- function(A, b, lambda = 0.1,\n",
    "                        max_iter = 1000, tol = 1e-7) {\n",
    "\n",
    "  p   <- ncol(A)\n",
    "  x   <- numeric(p)\n",
    "  y   <- x\n",
    "  t   <- 1\n",
    "  tau <- 1 / lipschitz_power(A)\n",
    "\n",
    "  for (k in seq_len(max_iter)) {\n",
    "\n",
    "    grad <- drop(t(A) %*% (A %*% y - b))\n",
    "    x_new <- soft_thresh(y - tau * grad, lambda * tau)\n",
    "\n",
    "    if (sqrt(sum((x_new - x)^2)) < tol) {\n",
    "      message(sprintf(\"FISTA converged @ iter %d\", k))\n",
    "      break\n",
    "    }\n",
    "\n",
    "    t_new <- 0.5 * (1 + sqrt(1 + 4 * t^2))\n",
    "    y     <- x_new + ((t - 1) / t_new) * (x_new - x)\n",
    "\n",
    "    x <- x_new;  t <- t_new\n",
    "  }\n",
    "  x\n",
    "}"
   ]
  },
  {
   "cell_type": "code",
   "execution_count": 5,
   "id": "863c5cac",
   "metadata": {
    "vscode": {
     "languageId": "r"
    }
   },
   "outputs": [
    {
     "name": "stdout",
     "output_type": "stream",
     "text": [
      "'data.frame':\t200 obs. of  5 variables:\n",
      " $ X        : int  1 2 3 4 5 6 7 8 9 10 ...\n",
      " $ TV       : num  230.1 44.5 17.2 151.5 180.8 ...\n",
      " $ Radio    : num  37.8 39.3 45.9 41.3 10.8 48.9 32.8 19.6 2.1 2.6 ...\n",
      " $ Newspaper: num  69.2 45.1 69.3 58.5 58.4 75 23.5 11.6 1 21.2 ...\n",
      " $ Sales    : num  22.1 10.4 9.3 18.5 12.9 7.2 11.8 13.2 4.8 10.6 ...\n",
      "[1] \"Are there any missing values? FALSE\"\n"
     ]
    }
   ],
   "source": [
    "# Load data\n",
    "data <- read.csv(\"Data/Advertising.csv\")\n",
    "# Check the structure of the data\n",
    "str(data)\n",
    "# Check for missing values\n",
    "print(paste(\"Are there any missing values?\", any(is.na(data))))"
   ]
  },
  {
   "cell_type": "code",
   "execution_count": 6,
   "id": "8a8f9cd9",
   "metadata": {
    "vscode": {
     "languageId": "r"
    }
   },
   "outputs": [],
   "source": [
    "#n <- 10000;  p <- 3000\n",
    "#A <- matrix(runif(n * p, -1, 1), n, p)\n",
    "#b <- runif(n, -1, 1)\n",
    "# A remove the first and last columns\n",
    "A <- as.matrix(data[, -c(1, dim(data)[2])])  # design matrix\n",
    "# b = last column\n",
    "b <- as.matrix(data[, dim(data)[2]])  # response vector\n",
    "lambda <- 0.1\n",
    "max_iter <- 10000"
   ]
  },
  {
   "cell_type": "code",
   "execution_count": 18,
   "id": "a8cd863e",
   "metadata": {
    "vscode": {
     "languageId": "r"
    }
   },
   "outputs": [
    {
     "name": "stderr",
     "output_type": "stream",
     "text": [
      "ISTA converged @ iter 1488\n",
      "\n"
     ]
    },
    {
     "data": {
      "text/plain": [
       "utilisateur     système      écoulé \n",
       "       0.01        0.00        0.04 "
      ]
     },
     "metadata": {},
     "output_type": "display_data"
    },
    {
     "name": "stderr",
     "output_type": "stream",
     "text": [
      "FISTA converged @ iter 701\n",
      "\n"
     ]
    },
    {
     "data": {
      "text/plain": [
       "utilisateur     système      écoulé \n",
       "       0.00        0.00        0.01 "
      ]
     },
     "metadata": {},
     "output_type": "display_data"
    }
   ],
   "source": [
    "system.time(x_ista  <- ista_lasso(A, b, lambda,max_iter = max_iter))\n",
    "system.time(x_fista <- fista_lasso(A, b, lambda,max_iter = max_iter))"
   ]
  },
  {
   "cell_type": "code",
   "execution_count": 8,
   "id": "4685ed4b",
   "metadata": {
    "vscode": {
     "languageId": "r"
    }
   },
   "outputs": [
    {
     "name": "stdout",
     "output_type": "stream",
     "text": [
      "  method objective nnz\n",
      "1   ISTA  404.5508   3\n",
      "2  FISTA  404.5509   3\n"
     ]
    }
   ],
   "source": [
    "objective <- function(x) 0.5 * sum((A %*% x - b)^2) + lambda * sum(abs(x))\n",
    "\n",
    "df <- data.frame(\n",
    "  method    = c(\"ISTA\", \"FISTA\"),\n",
    "  objective = c(objective(x_ista), objective(x_fista)),\n",
    "  nnz       = c(sum(x_ista != 0),  sum(x_fista != 0))\n",
    ")\n",
    "print(df)"
   ]
  }
 ],
 "metadata": {
  "kernelspec": {
   "display_name": "R",
   "language": "R",
   "name": "ir"
  },
  "language_info": {
   "codemirror_mode": "r",
   "file_extension": ".r",
   "mimetype": "text/x-r-source",
   "name": "R",
   "pygments_lexer": "r",
   "version": "4.3.3"
  }
 },
 "nbformat": 4,
 "nbformat_minor": 5
}
